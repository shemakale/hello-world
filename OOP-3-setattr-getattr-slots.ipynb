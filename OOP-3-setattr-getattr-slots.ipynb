{
 "cells": [
  {
   "cell_type": "markdown",
   "metadata": {},
   "source": [
    "# Перегрузка методов класса:"
   ]
  },
  {
   "cell_type": "raw",
   "metadata": {},
   "source": [
    "__setattr__(self, key, value) - автоматически вызывается при изменении свойства key класса\n",
    "__getattribute__(self, item) - автоматически вызывается при получении свойства класса с именем item\n",
    "__getattr__(self, item) - автоматически вызывается при получении несуществующего item класса\n",
    "__delattr__(self, item) - автоматически вызывается при удалении свойства item (неважно, существует оно или нет)."
   ]
  },
  {
   "cell_type": "markdown",
   "metadata": {},
   "source": [
    "## Перегрузка __getattribute__."
   ]
  },
  {
   "cell_type": "markdown",
   "metadata": {},
   "source": [
    "Вывод сообщения вместо вывода значения атрибута"
   ]
  },
  {
   "cell_type": "code",
   "execution_count": 5,
   "metadata": {},
   "outputs": [],
   "source": [
    "class Point:\n",
    "    def __init__(self, x=0, y=0):\n",
    "        ''' конструктор класса '''\n",
    "        self.__x = x; self.__y = y\n",
    "    \n",
    "    def __checkValues(x, y):\n",
    "        ''' приватный метод для проверки введенных значений координат '''\n",
    "        if isinstance(x, (float, int)) and isinstance(y, (float, int)):\n",
    "            return True\n",
    "        return False\n",
    "    \n",
    "    def setCoords(self, x, y): \n",
    "        ''' сеттер - устанавливаем приватные переменные публичным методом '''\n",
    "        if Point.__checkValues(x, y): #проверка входных данных\n",
    "            self.__x = x\n",
    "            self.__y = y\n",
    "        else:\n",
    "            print('Координаты должны быть числом')\n",
    "    \n",
    "    def getCoords(self):\n",
    "        ''' геттер - получаем значения приватных атрибутов '''\n",
    "        return self.__x, self.__y\n",
    "    \n",
    "    def __getattribute__(self, item):\n",
    "        if item == \"_Point__x\": #если свойство item соотв. переменной __x, тогда возвращается сообщение\n",
    "            return \"Частная переменная\"\n",
    "        else: #иначе: строго необходимая строчка\n",
    "            return object.__getattribute__(self, item)"
   ]
  },
  {
   "cell_type": "code",
   "execution_count": 6,
   "metadata": {},
   "outputs": [],
   "source": [
    "pt = Point(2, 3)"
   ]
  },
  {
   "cell_type": "markdown",
   "metadata": {},
   "source": [
    "Теперь при вызове метода-геттера вместо переменной __x выводится сообщение"
   ]
  },
  {
   "cell_type": "code",
   "execution_count": 7,
   "metadata": {},
   "outputs": [
    {
     "name": "stdout",
     "output_type": "stream",
     "text": [
      "('Частная переменная', 3)\n"
     ]
    }
   ],
   "source": [
    "print(pt.getCoords())"
   ]
  },
  {
   "cell_type": "code",
   "execution_count": 8,
   "metadata": {},
   "outputs": [
    {
     "name": "stdout",
     "output_type": "stream",
     "text": [
      "Частная переменная\n"
     ]
    }
   ],
   "source": [
    "print(pt._Point__x)"
   ]
  },
  {
   "cell_type": "markdown",
   "metadata": {},
   "source": [
    "## Перегрузка setattr"
   ]
  },
  {
   "cell_type": "markdown",
   "metadata": {},
   "source": [
    "Запрет на изменение атрибута класса"
   ]
  },
  {
   "cell_type": "code",
   "execution_count": 9,
   "metadata": {},
   "outputs": [],
   "source": [
    "class Point:\n",
    "    WIDTH = 5 # у нас есть атрибут класса, и мы хотим, чтобы его нельзя было менять извне\n",
    "    def __init__(self, x=0, y=0):\n",
    "        ''' конструктор класса '''\n",
    "        self.__x = x; self.__y = y\n",
    "    \n",
    "    def __checkValues(x, y):\n",
    "        ''' приватный метод для проверки введенных значений координат '''\n",
    "        if isinstance(x, (float, int)) and isinstance(y, (float, int)):\n",
    "            return True\n",
    "        return False\n",
    "    \n",
    "    def setCoords(self, x, y): \n",
    "        ''' сеттер - устанавливаем приватные переменные публичным методом '''\n",
    "        if Point.__checkValues(x, y): #проверка входных данных\n",
    "            self.__x = x\n",
    "            self.__y = y\n",
    "        else:\n",
    "            print('Координаты должны быть числом')\n",
    "    \n",
    "    def getCoords(self):\n",
    "        ''' геттер - получаем значения приватных атрибутов '''\n",
    "        return self.__x, self.__y\n",
    "    \n",
    "    def __setattr__(self, key, value):\n",
    "        if key == \"WIDTH\": #если происходит изменение атрибута WIDTH, тогда генерируется исключение\n",
    "            raise AttributeError\n",
    "        else: # иначе для остальных свойст мы можем их менять (эта запись обязательна!)\n",
    "            self.__dict__[key] = value"
   ]
  },
  {
   "cell_type": "code",
   "execution_count": 10,
   "metadata": {},
   "outputs": [],
   "source": [
    "pt1 = Point(10, 11)"
   ]
  },
  {
   "cell_type": "markdown",
   "metadata": {},
   "source": [
    "Теперь, если мы пытаемся задать значение для атрибута WIDTH, вываливается исключение"
   ]
  },
  {
   "cell_type": "code",
   "execution_count": 11,
   "metadata": {},
   "outputs": [
    {
     "ename": "AttributeError",
     "evalue": "",
     "output_type": "error",
     "traceback": [
      "\u001b[1;31m---------------------------------------------------------------------------\u001b[0m",
      "\u001b[1;31mAttributeError\u001b[0m                            Traceback (most recent call last)",
      "\u001b[1;32m<ipython-input-11-7ead94e56766>\u001b[0m in \u001b[0;36m<module>\u001b[1;34m\u001b[0m\n\u001b[1;32m----> 1\u001b[1;33m \u001b[0mpt1\u001b[0m\u001b[1;33m.\u001b[0m\u001b[0mWIDTH\u001b[0m \u001b[1;33m=\u001b[0m \u001b[1;36m5\u001b[0m\u001b[1;33m\u001b[0m\u001b[1;33m\u001b[0m\u001b[0m\n\u001b[0m",
      "\u001b[1;32m<ipython-input-9-bfd3a79160ef>\u001b[0m in \u001b[0;36m__setattr__\u001b[1;34m(self, key, value)\u001b[0m\n\u001b[0;32m     25\u001b[0m     \u001b[1;32mdef\u001b[0m \u001b[0m__setattr__\u001b[0m\u001b[1;33m(\u001b[0m\u001b[0mself\u001b[0m\u001b[1;33m,\u001b[0m \u001b[0mkey\u001b[0m\u001b[1;33m,\u001b[0m \u001b[0mvalue\u001b[0m\u001b[1;33m)\u001b[0m\u001b[1;33m:\u001b[0m\u001b[1;33m\u001b[0m\u001b[1;33m\u001b[0m\u001b[0m\n\u001b[0;32m     26\u001b[0m         \u001b[1;32mif\u001b[0m \u001b[0mkey\u001b[0m \u001b[1;33m==\u001b[0m \u001b[1;34m\"WIDTH\"\u001b[0m\u001b[1;33m:\u001b[0m \u001b[1;31m#если происходит изменение атрибута WIDTH, тогда генерируется исключение\u001b[0m\u001b[1;33m\u001b[0m\u001b[1;33m\u001b[0m\u001b[0m\n\u001b[1;32m---> 27\u001b[1;33m             \u001b[1;32mraise\u001b[0m \u001b[0mAttributeError\u001b[0m\u001b[1;33m\u001b[0m\u001b[1;33m\u001b[0m\u001b[0m\n\u001b[0m\u001b[0;32m     28\u001b[0m         \u001b[1;32melse\u001b[0m\u001b[1;33m:\u001b[0m \u001b[1;31m# иначе для остальных свойст мы можем их менять\u001b[0m\u001b[1;33m\u001b[0m\u001b[1;33m\u001b[0m\u001b[0m\n\u001b[0;32m     29\u001b[0m             \u001b[0mself\u001b[0m\u001b[1;33m.\u001b[0m\u001b[0m__dict__\u001b[0m\u001b[1;33m[\u001b[0m\u001b[0mkey\u001b[0m\u001b[1;33m]\u001b[0m \u001b[1;33m=\u001b[0m \u001b[0mvalue\u001b[0m\u001b[1;33m\u001b[0m\u001b[1;33m\u001b[0m\u001b[0m\n",
      "\u001b[1;31mAttributeError\u001b[0m: "
     ]
    }
   ],
   "source": [
    "pt1.WIDTH = 5"
   ]
  },
  {
   "cell_type": "markdown",
   "metadata": {},
   "source": [
    "## Перегрузка getattr и delattr"
   ]
  },
  {
   "cell_type": "markdown",
   "metadata": {},
   "source": [
    "Задаем, что будет происходить при обращении к несуществующему атрибуту и удалению атрибута"
   ]
  },
  {
   "cell_type": "code",
   "execution_count": 36,
   "metadata": {},
   "outputs": [],
   "source": [
    "class Point:\n",
    "    WIDTH = 5\n",
    "    def __init__(self, x=0, y=0):\n",
    "        ''' конструктор класса '''\n",
    "        self.__x = x; self.__y = y\n",
    "    \n",
    "    def __checkValues(x, y):\n",
    "        ''' приватный метод для проверки введенных значений координат '''\n",
    "        if isinstance(x, (float, int)) and isinstance(y, (float, int)):\n",
    "            return True\n",
    "        return False\n",
    "    \n",
    "    def setCoords(self, x, y): \n",
    "        ''' сеттер - устанавливаем приватные переменные публичным методом '''\n",
    "        if Point.__checkValues(x, y): #проверка входных данных\n",
    "            self.__x = x\n",
    "            self.__y = y\n",
    "        else:\n",
    "            print('Координаты должны быть числом')\n",
    "    \n",
    "    def getCoords(self):\n",
    "        ''' геттер - получаем значения приватных атрибутов '''\n",
    "        return self.__x, self.__y\n",
    "    \n",
    "    def __getattr__(self, item):\n",
    "        print(\"__getattr__: \" + item) # сообщение будет выводиться при обращении к несуществующему атрибуту\n",
    "    \n",
    "    def __delattr__(self, item):\n",
    "        print(\"__delattr__: \" + item) # будет выводиться при удалении какого-либо атрибута"
   ]
  },
  {
   "cell_type": "code",
   "execution_count": 33,
   "metadata": {},
   "outputs": [],
   "source": [
    "pt2 = Point(21, 30)"
   ]
  },
  {
   "cell_type": "markdown",
   "metadata": {},
   "source": [
    "теперь при обращении к несуществующему атрибуту вызывается метод getattr, которые сейчас выводит сообщение:"
   ]
  },
  {
   "cell_type": "code",
   "execution_count": 26,
   "metadata": {},
   "outputs": [
    {
     "name": "stdout",
     "output_type": "stream",
     "text": [
      "__getattr__: zzz\n"
     ]
    }
   ],
   "source": [
    "pt2.zzz"
   ]
  },
  {
   "cell_type": "markdown",
   "metadata": {},
   "source": [
    "Создадим атрибут у экземпляра, а затем удалим его. При удалении будет выводиться сообщение, которое мы указали в delattr"
   ]
  },
  {
   "cell_type": "code",
   "execution_count": 34,
   "metadata": {},
   "outputs": [],
   "source": [
    "pt2.q = 123"
   ]
  },
  {
   "cell_type": "code",
   "execution_count": 35,
   "metadata": {},
   "outputs": [
    {
     "name": "stdout",
     "output_type": "stream",
     "text": [
      "__delattr__: q\n"
     ]
    }
   ],
   "source": [
    "del pt2.q"
   ]
  },
  {
   "cell_type": "markdown",
   "metadata": {},
   "source": [
    "## Задание атрибутов для экземпляра при помощи slots"
   ]
  },
  {
   "cell_type": "raw",
   "metadata": {},
   "source": [
    "__slots__ задает разрешенные свойства экземпляров классов"
   ]
  },
  {
   "cell_type": "code",
   "execution_count": 41,
   "metadata": {},
   "outputs": [],
   "source": [
    "class Point:\n",
    "    WIDTH = 5 #\n",
    "    __slots__ = [\"__x\", \"__y\"] # в экземплярах класса Point будут только эти атрибуты\n",
    "    \n",
    "    def __init__(self, x=0, y=0):\n",
    "        ''' конструктор класса '''\n",
    "        self.__x = x; self.__y = y\n",
    "    \n",
    "    def __checkValues(x, y):\n",
    "        ''' приватный метод для проверки введенных значений координат '''\n",
    "        if isinstance(x, (float, int)) and isinstance(y, (float, int)):\n",
    "            return True\n",
    "        return False\n",
    "    \n",
    "    def setCoords(self, x, y): \n",
    "        ''' сеттер - устанавливаем приватные переменные публичным методом '''\n",
    "        if Point.__checkValues(x, y): #проверка входных данных\n",
    "            self.__x = x\n",
    "            self.__y = y\n",
    "        else:\n",
    "            print('Координаты должны быть числом')\n",
    "    \n",
    "    def getCoords(self):\n",
    "        ''' геттер - получаем значения приватных атрибутов '''\n",
    "        return self.__x, self.__y"
   ]
  },
  {
   "cell_type": "code",
   "execution_count": 42,
   "metadata": {},
   "outputs": [],
   "source": [
    "pt3 = Point(5, 7)"
   ]
  },
  {
   "cell_type": "markdown",
   "metadata": {},
   "source": [
    "Теперь, если мы попытаемся задать новый атрибут для экземпляра pt3, вывалится ошибка"
   ]
  },
  {
   "cell_type": "code",
   "execution_count": 43,
   "metadata": {},
   "outputs": [
    {
     "ename": "AttributeError",
     "evalue": "'Point' object has no attribute 'z'",
     "output_type": "error",
     "traceback": [
      "\u001b[1;31m---------------------------------------------------------------------------\u001b[0m",
      "\u001b[1;31mAttributeError\u001b[0m                            Traceback (most recent call last)",
      "\u001b[1;32m<ipython-input-43-b13d3c3b4112>\u001b[0m in \u001b[0;36m<module>\u001b[1;34m\u001b[0m\n\u001b[1;32m----> 1\u001b[1;33m \u001b[0mpt3\u001b[0m\u001b[1;33m.\u001b[0m\u001b[0mz\u001b[0m \u001b[1;33m=\u001b[0m \u001b[1;36m2\u001b[0m\u001b[1;33m\u001b[0m\u001b[1;33m\u001b[0m\u001b[0m\n\u001b[0m",
      "\u001b[1;31mAttributeError\u001b[0m: 'Point' object has no attribute 'z'"
     ]
    }
   ],
   "source": [
    "pt3.z = 2"
   ]
  },
  {
   "cell_type": "markdown",
   "metadata": {},
   "source": [
    "Т.о., для экземпляра pt3 класса Point() доступны только переменные __x __y"
   ]
  },
  {
   "cell_type": "raw",
   "metadata": {},
   "source": [
    "При использовании __slots__ у экземпляров класса перестает быть доступным метод __dict__"
   ]
  },
  {
   "cell_type": "markdown",
   "metadata": {},
   "source": [
    "#### Самостоятельная работа"
   ]
  },
  {
   "cell_type": "code",
   "execution_count": 80,
   "metadata": {},
   "outputs": [],
   "source": [
    "class Calendar:\n",
    "    __slots__ = ['__day', '__month', '__year']\n",
    "    \n",
    "    def __init__(self, day=1, month=1, year=2000):\n",
    "        self.__day = day\n",
    "        self.__month = month\n",
    "        self.__year = year\n",
    "    \n",
    "    def set_date(self, day, month, year):\n",
    "        self.__day, self.__month,  self.__year = day, month, year\n",
    "    \n",
    "    def get_date(self):\n",
    "        return self.__day, self.__month, self.__year"
   ]
  },
  {
   "cell_type": "code",
   "execution_count": 81,
   "metadata": {},
   "outputs": [],
   "source": [
    "new_year = Calendar(31, 12, 2021)"
   ]
  },
  {
   "cell_type": "code",
   "execution_count": 84,
   "metadata": {},
   "outputs": [
    {
     "data": {
      "text/plain": [
       "(31, 12, 2021)"
      ]
     },
     "execution_count": 84,
     "metadata": {},
     "output_type": "execute_result"
    }
   ],
   "source": [
    "new_year.get_date()"
   ]
  },
  {
   "cell_type": "code",
   "execution_count": 87,
   "metadata": {},
   "outputs": [],
   "source": [
    "new_year.set_date(1, 1, 2019)"
   ]
  },
  {
   "cell_type": "code",
   "execution_count": 88,
   "metadata": {},
   "outputs": [
    {
     "data": {
      "text/plain": [
       "(1, 1, 2019)"
      ]
     },
     "execution_count": 88,
     "metadata": {},
     "output_type": "execute_result"
    }
   ],
   "source": [
    "new_year.get_date()"
   ]
  },
  {
   "cell_type": "code",
   "execution_count": null,
   "metadata": {},
   "outputs": [],
   "source": []
  }
 ],
 "metadata": {
  "kernelspec": {
   "display_name": "Python 3",
   "language": "python",
   "name": "python3"
  },
  "language_info": {
   "codemirror_mode": {
    "name": "ipython",
    "version": 3
   },
   "file_extension": ".py",
   "mimetype": "text/x-python",
   "name": "python",
   "nbconvert_exporter": "python",
   "pygments_lexer": "ipython3",
   "version": "3.8.2"
  }
 },
 "nbformat": 4,
 "nbformat_minor": 4
}
