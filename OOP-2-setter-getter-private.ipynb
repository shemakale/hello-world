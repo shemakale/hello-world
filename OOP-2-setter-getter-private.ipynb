{
 "cells": [
  {
   "cell_type": "markdown",
   "metadata": {},
   "source": [
    "# Сеттеры и геттеры классов"
   ]
  },
  {
   "cell_type": "markdown",
   "metadata": {},
   "source": [
    "Для задания значений атрибутов экземпляров используются сеттеры (setters). Для получения значений атрибутов экземпляров применяются геттеры (getters)."
   ]
  },
  {
   "cell_type": "code",
   "execution_count": 49,
   "metadata": {},
   "outputs": [],
   "source": [
    "class Point3D:\n",
    "    ''' doc str'''\n",
    "    def __init__(self, x=0, y=0, z=0):\n",
    "        self.x = x\n",
    "        self.y = y\n",
    "        self.z = z\n",
    "    def setCoord(self, x, y, z): #сеттер, здесь устанавливаются значения атрибутов\n",
    "        self.x = x\n",
    "        self.y = y\n",
    "        self.z = z\n",
    "    def getCoord(self): #геттер, здесь атрибуты вызываются\n",
    "        return self.x, self.y, self.z"
   ]
  },
  {
   "cell_type": "code",
   "execution_count": 44,
   "metadata": {},
   "outputs": [
    {
     "data": {
      "text/plain": [
       "{'x': 0, 'y': 0, 'z': 0}"
      ]
     },
     "execution_count": 44,
     "metadata": {},
     "output_type": "execute_result"
    }
   ],
   "source": [
    "p1 = Point3D()\n",
    "p1.__dict__"
   ]
  },
  {
   "cell_type": "markdown",
   "metadata": {},
   "source": [
    "Используем сеттер для задания новых координат:"
   ]
  },
  {
   "cell_type": "code",
   "execution_count": 45,
   "metadata": {},
   "outputs": [
    {
     "data": {
      "text/plain": [
       "{'x': 2, 'y': -5, 'z': 6}"
      ]
     },
     "execution_count": 45,
     "metadata": {},
     "output_type": "execute_result"
    }
   ],
   "source": [
    "p1.setCoord(2, -5, 6)\n",
    "p1.__dict__"
   ]
  },
  {
   "cell_type": "markdown",
   "metadata": {},
   "source": [
    "Используем геттер, чтобы вернуть текущие координаты:"
   ]
  },
  {
   "cell_type": "code",
   "execution_count": 46,
   "metadata": {},
   "outputs": [
    {
     "data": {
      "text/plain": [
       "(2, -5, 6)"
      ]
     },
     "execution_count": 46,
     "metadata": {},
     "output_type": "execute_result"
    }
   ],
   "source": [
    "p1.getCoord()"
   ]
  },
  {
   "cell_type": "markdown",
   "metadata": {},
   "source": [
    "В атрибутах класса сеттеры и геттеры прописаны как функции:"
   ]
  },
  {
   "cell_type": "code",
   "execution_count": 50,
   "metadata": {},
   "outputs": [
    {
     "data": {
      "text/plain": [
       "mappingproxy({'__module__': '__main__',\n",
       "              '__doc__': ' doc str',\n",
       "              '__init__': <function __main__.Point3D.__init__(self, x=0, y=0, z=0)>,\n",
       "              'setCoord': <function __main__.Point3D.setCoord(self, x, y, z)>,\n",
       "              'getCoord': <function __main__.Point3D.getCoord(self)>,\n",
       "              '__dict__': <attribute '__dict__' of 'Point3D' objects>,\n",
       "              '__weakref__': <attribute '__weakref__' of 'Point3D' objects>})"
      ]
     },
     "execution_count": 50,
     "metadata": {},
     "output_type": "execute_result"
    }
   ],
   "source": [
    "Point3D.__dict__"
   ]
  },
  {
   "cell_type": "markdown",
   "metadata": {},
   "source": [
    "#### Самостоятельная работа"
   ]
  },
  {
   "cell_type": "code",
   "execution_count": 1,
   "metadata": {},
   "outputs": [],
   "source": [
    "class List5Int:\n",
    "    ''' последовательно ввести 5 чисел и сохранить их в списке '''\n",
    "    def __init__(self):\n",
    "        self.l = []\n",
    "        \n",
    "    def extend_list(self, x):\n",
    "        self.l.extend(x)\n",
    "\n",
    "\n",
    "def set_values_to_point(a):\n",
    "    for i in range(5):\n",
    "        x = int(input('Введите {}-е число: '.format(i + 1)))\n",
    "        a.extend_list([x])\n",
    "    return getattr(a, 'l')"
   ]
  },
  {
   "cell_type": "code",
   "execution_count": 2,
   "metadata": {},
   "outputs": [
    {
     "name": "stdout",
     "output_type": "stream",
     "text": [
      "Введите 1-е число: 4\n",
      "Введите 2-е число: 23\n",
      "Введите 3-е число: -9\n",
      "Введите 4-е число: 0\n",
      "Введите 5-е число: 4\n"
     ]
    },
    {
     "data": {
      "text/plain": [
       "[4, 23, -9, 0, 4]"
      ]
     },
     "execution_count": 2,
     "metadata": {},
     "output_type": "execute_result"
    }
   ],
   "source": [
    "a = List5Int()\n",
    "lst = set_values_to_point(a)\n",
    "lst"
   ]
  },
  {
   "cell_type": "code",
   "execution_count": 3,
   "metadata": {},
   "outputs": [
    {
     "data": {
      "text/plain": [
       "{'l': [4, 23, -9, 0, 4]}"
      ]
     },
     "execution_count": 3,
     "metadata": {},
     "output_type": "execute_result"
    }
   ],
   "source": [
    "a.__dict__"
   ]
  },
  {
   "cell_type": "markdown",
   "metadata": {},
   "source": [
    "### Приватные атрибуты"
   ]
  },
  {
   "cell_type": "raw",
   "metadata": {},
   "source": [
    "Приватные атрибуты классов задаются двойным подчеркиванием: __имя_атрибута. К таким атрибутам нельзя обратиться напрямую через экземпляр класса"
   ]
  },
  {
   "cell_type": "code",
   "execution_count": 1,
   "metadata": {},
   "outputs": [],
   "source": [
    "class Point:\n",
    "    def __init__(self, x=0, y=0):\n",
    "        self.__x = x; self.__y = y"
   ]
  },
  {
   "cell_type": "code",
   "execution_count": 2,
   "metadata": {},
   "outputs": [],
   "source": [
    "pt = Point(2, 5)"
   ]
  },
  {
   "cell_type": "code",
   "execution_count": 4,
   "metadata": {
    "scrolled": true
   },
   "outputs": [
    {
     "ename": "AttributeError",
     "evalue": "'Point' object has no attribute '__x'",
     "output_type": "error",
     "traceback": [
      "\u001b[1;31m---------------------------------------------------------------------------\u001b[0m",
      "\u001b[1;31mAttributeError\u001b[0m                            Traceback (most recent call last)",
      "\u001b[1;32m<ipython-input-4-88468e495782>\u001b[0m in \u001b[0;36m<module>\u001b[1;34m\u001b[0m\n\u001b[1;32m----> 1\u001b[1;33m \u001b[0mpt\u001b[0m\u001b[1;33m.\u001b[0m\u001b[0m__x\u001b[0m\u001b[1;33m\u001b[0m\u001b[1;33m\u001b[0m\u001b[0m\n\u001b[0m",
      "\u001b[1;31mAttributeError\u001b[0m: 'Point' object has no attribute '__x'"
     ]
    }
   ],
   "source": [
    "pt.__x"
   ]
  },
  {
   "cell_type": "markdown",
   "metadata": {},
   "source": [
    "### Сеттеры и геттеры для доступа к приватным атрибутам"
   ]
  },
  {
   "cell_type": "markdown",
   "metadata": {},
   "source": [
    "К приватным атрибутам можно устроить доступ при помощи сеттеров и геттеров."
   ]
  },
  {
   "cell_type": "code",
   "execution_count": 20,
   "metadata": {},
   "outputs": [],
   "source": [
    "class Point:\n",
    "    def __init__(self, x=0, y=0):\n",
    "        ''' конструктор класса '''\n",
    "        self.__x = x; self.__y = y\n",
    "    \n",
    "    def __checkValues(x, y):\n",
    "        ''' приватный метод для проверки введенных значений координат '''\n",
    "        if isinstance(x, (float, int)) and isinstance(y, (float, int)):\n",
    "            return True\n",
    "        return False\n",
    "    \n",
    "    def setCoords(self, x, y): \n",
    "        ''' сеттер - устанавливаем приватные переменные публичным методом '''\n",
    "        if Point.__checkValues(x, y): #проверка входных данных\n",
    "            self.__x = x\n",
    "            self.__y = y\n",
    "        else:\n",
    "            print('Координаты должны быть числом')\n",
    "    \n",
    "    def getCoords(self):\n",
    "        ''' геттер - получаем значения приватных атрибутов '''\n",
    "        return self.__x, self.__y"
   ]
  },
  {
   "cell_type": "code",
   "execution_count": 21,
   "metadata": {},
   "outputs": [
    {
     "name": "stdout",
     "output_type": "stream",
     "text": [
      "(3, 4)\n"
     ]
    }
   ],
   "source": [
    "pt1 = Point(3, 4)\n",
    "print(pt1.getCoords())"
   ]
  },
  {
   "cell_type": "code",
   "execution_count": 22,
   "metadata": {},
   "outputs": [
    {
     "name": "stdout",
     "output_type": "stream",
     "text": [
      "(12, 31)\n"
     ]
    }
   ],
   "source": [
    "pt1.setCoords(12, 31)\n",
    "print(pt1.getCoords())"
   ]
  },
  {
   "cell_type": "code",
   "execution_count": 23,
   "metadata": {
    "scrolled": true
   },
   "outputs": [
    {
     "name": "stdout",
     "output_type": "stream",
     "text": [
      "Координаты должны быть числом\n"
     ]
    }
   ],
   "source": [
    "pt1.setCoords('23', 31)"
   ]
  },
  {
   "cell_type": "markdown",
   "metadata": {},
   "source": [
    "#### Доступ к приватным атрибутам и методам можно делать так (но нежелательно):"
   ]
  },
  {
   "cell_type": "code",
   "execution_count": 24,
   "metadata": {},
   "outputs": [
    {
     "data": {
      "text/plain": [
       "12"
      ]
     },
     "execution_count": 24,
     "metadata": {},
     "output_type": "execute_result"
    }
   ],
   "source": [
    "pt1._Point__x"
   ]
  },
  {
   "cell_type": "code",
   "execution_count": 28,
   "metadata": {},
   "outputs": [
    {
     "data": {
      "text/plain": [
       "(True, False)"
      ]
     },
     "execution_count": 28,
     "metadata": {},
     "output_type": "execute_result"
    }
   ],
   "source": [
    "Point._Point__checkValues(3, 2), Point._Point__checkValues('3', 2)"
   ]
  }
 ],
 "metadata": {
  "kernelspec": {
   "display_name": "Python 3",
   "language": "python",
   "name": "python3"
  },
  "language_info": {
   "codemirror_mode": {
    "name": "ipython",
    "version": 3
   },
   "file_extension": ".py",
   "mimetype": "text/x-python",
   "name": "python",
   "nbconvert_exporter": "python",
   "pygments_lexer": "ipython3",
   "version": "3.8.2"
  }
 },
 "nbformat": 4,
 "nbformat_minor": 4
}
