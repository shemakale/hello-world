{
 "cells": [
  {
   "cell_type": "markdown",
   "metadata": {},
   "source": [
    "# Объекты свойства (property)"
   ]
  },
  {
   "cell_type": "code",
   "execution_count": 1,
   "metadata": {},
   "outputs": [],
   "source": [
    "class Point:\n",
    "    def __init__(self, x = 0, y = 0):\n",
    "        ''' конструктор класса '''\n",
    "        self.__x = x; self.__y = y\n",
    "    \n",
    "    def getCoordX(self):\n",
    "        ''' геттер - получаем значения приватных атрибутов '''\n",
    "        print(\"вызов __getCoordX\")\n",
    "        return self.__x\n",
    "    \n",
    "    def setCoordX(self, x): \n",
    "        ''' сеттер - устанавливаем приватные переменные публичным методом '''\n",
    "        print('вызов __setCoordX')\n",
    "        self.__x = x"
   ]
  },
  {
   "cell_type": "code",
   "execution_count": 2,
   "metadata": {},
   "outputs": [],
   "source": [
    "pt = Point(1, 2)"
   ]
  },
  {
   "cell_type": "code",
   "execution_count": 3,
   "metadata": {},
   "outputs": [],
   "source": [
    "pt.coordX = 100"
   ]
  },
  {
   "cell_type": "code",
   "execution_count": 4,
   "metadata": {},
   "outputs": [],
   "source": [
    "x = pt.coordX"
   ]
  },
  {
   "cell_type": "code",
   "execution_count": 5,
   "metadata": {},
   "outputs": [
    {
     "data": {
      "text/plain": [
       "100"
      ]
     },
     "execution_count": 5,
     "metadata": {},
     "output_type": "execute_result"
    }
   ],
   "source": [
    "x"
   ]
  },
  {
   "cell_type": "markdown",
   "metadata": {},
   "source": [
    "Мы хотим создать атрибут coordX, с которым мы хотим работать как с переменной. Т.е. использовать синтаксис доступа, как к обычной переменной. Кроме того, использовать проверку корректности чтения и записи данных."
   ]
  },
  {
   "cell_type": "markdown",
   "metadata": {},
   "source": [
    "#### Для этого делаем приватными методы getCoordX и setCoordX и создаем объект свойства property"
   ]
  },
  {
   "cell_type": "code",
   "execution_count": 16,
   "metadata": {},
   "outputs": [],
   "source": [
    "class Point:\n",
    "    def __init__(self, x = 0):\n",
    "        ''' конструктор класса '''\n",
    "        self.__x = x\n",
    "    \n",
    "    def __getCoordX(self):\n",
    "        ''' геттер - получаем значения приватных атрибутов '''\n",
    "        print(\"вызов __getCoordX\")\n",
    "        return self.__x\n",
    "    \n",
    "    def __setCoordX(self, x): \n",
    "        ''' сеттер - устанавливаем приватные переменные публичным методом '''\n",
    "        print('вызов __setCoordX')\n",
    "        self.__x = x\n",
    "    \n",
    "    coordX = property(__getCoordX, __setCoordX)"
   ]
  },
  {
   "cell_type": "code",
   "execution_count": 17,
   "metadata": {},
   "outputs": [],
   "source": [
    "pt = Point(1)"
   ]
  },
  {
   "cell_type": "code",
   "execution_count": 15,
   "metadata": {},
   "outputs": [
    {
     "name": "stdout",
     "output_type": "stream",
     "text": [
      "вызов __setCoordX\n"
     ]
    }
   ],
   "source": [
    "pt.coordX = 100"
   ]
  },
  {
   "cell_type": "code",
   "execution_count": 16,
   "metadata": {},
   "outputs": [
    {
     "name": "stdout",
     "output_type": "stream",
     "text": [
      "вызов __getCoordX\n"
     ]
    }
   ],
   "source": [
    "x = pt.coordX"
   ]
  },
  {
   "cell_type": "markdown",
   "metadata": {},
   "source": [
    "Теперь при задании coordX значения вызывается метод __setCoordX, а при присвоении coordX в другую переменную - __getCoordX"
   ]
  },
  {
   "cell_type": "markdown",
   "metadata": {},
   "source": [
    "Это удобнее, чем вызывать геттеры и сеттеры"
   ]
  },
  {
   "cell_type": "markdown",
   "metadata": {},
   "source": [
    "### Добавим проверку на правильность формата переменной coordX"
   ]
  },
  {
   "cell_type": "code",
   "execution_count": 22,
   "metadata": {},
   "outputs": [],
   "source": [
    "class Point:\n",
    "    def __init__(self, x = 0, y = 0):\n",
    "        ''' конструктор класса '''\n",
    "        self.__x = x; self.__y = y\n",
    "\n",
    "    def __checkValue(x):\n",
    "        ''' приватный метод для проверки введенных значений координат '''\n",
    "        return isinstance(x, (float, int))\n",
    "    \n",
    "    def __getCoordX(self):\n",
    "        ''' геттер - получаем значения приватных атрибутов '''\n",
    "        return self.__x\n",
    "    \n",
    "    def __setCoordX(self, x): \n",
    "        ''' сеттер - устанавливаем приватные переменные публичным методом '''\n",
    "        if Point.__checkValue(x):\n",
    "            self.__x = x\n",
    "        else:\n",
    "            raise ValueError(\"Неверный формат данных\")\n",
    "    \n",
    "    coordX = property(__getCoordX, __setCoordX)"
   ]
  },
  {
   "cell_type": "code",
   "execution_count": 23,
   "metadata": {},
   "outputs": [],
   "source": [
    "pt = Point(1, 2)"
   ]
  },
  {
   "cell_type": "code",
   "execution_count": 24,
   "metadata": {},
   "outputs": [],
   "source": [
    "pt.coordX = 10"
   ]
  },
  {
   "cell_type": "code",
   "execution_count": 25,
   "metadata": {},
   "outputs": [],
   "source": [
    "x = pt.coordX"
   ]
  },
  {
   "cell_type": "code",
   "execution_count": 26,
   "metadata": {},
   "outputs": [
    {
     "name": "stdout",
     "output_type": "stream",
     "text": [
      "10\n"
     ]
    }
   ],
   "source": [
    "print(x)"
   ]
  },
  {
   "cell_type": "markdown",
   "metadata": {},
   "source": [
    "Всё норм, теперь присваиваем coordX неверный тип данных"
   ]
  },
  {
   "cell_type": "code",
   "execution_count": 27,
   "metadata": {},
   "outputs": [
    {
     "ename": "ValueError",
     "evalue": "Неверный формат данных",
     "output_type": "error",
     "traceback": [
      "\u001b[1;31m---------------------------------------------------------------------------\u001b[0m",
      "\u001b[1;31mValueError\u001b[0m                                Traceback (most recent call last)",
      "\u001b[1;32m<ipython-input-27-557c572f7604>\u001b[0m in \u001b[0;36m<module>\u001b[1;34m\u001b[0m\n\u001b[1;32m----> 1\u001b[1;33m \u001b[0mpt\u001b[0m\u001b[1;33m.\u001b[0m\u001b[0mcoordX\u001b[0m \u001b[1;33m=\u001b[0m \u001b[1;34m'10'\u001b[0m\u001b[1;33m\u001b[0m\u001b[1;33m\u001b[0m\u001b[0m\n\u001b[0m",
      "\u001b[1;32m<ipython-input-22-5a4486fb4108>\u001b[0m in \u001b[0;36m__setCoordX\u001b[1;34m(self, x)\u001b[0m\n\u001b[0;32m     17\u001b[0m             \u001b[0mself\u001b[0m\u001b[1;33m.\u001b[0m\u001b[0m__x\u001b[0m \u001b[1;33m=\u001b[0m \u001b[0mx\u001b[0m\u001b[1;33m\u001b[0m\u001b[1;33m\u001b[0m\u001b[0m\n\u001b[0;32m     18\u001b[0m         \u001b[1;32melse\u001b[0m\u001b[1;33m:\u001b[0m\u001b[1;33m\u001b[0m\u001b[1;33m\u001b[0m\u001b[0m\n\u001b[1;32m---> 19\u001b[1;33m             \u001b[1;32mraise\u001b[0m \u001b[0mValueError\u001b[0m\u001b[1;33m(\u001b[0m\u001b[1;34m\"Неверный формат данных\"\u001b[0m\u001b[1;33m)\u001b[0m\u001b[1;33m\u001b[0m\u001b[1;33m\u001b[0m\u001b[0m\n\u001b[0m\u001b[0;32m     20\u001b[0m \u001b[1;33m\u001b[0m\u001b[0m\n\u001b[0;32m     21\u001b[0m     \u001b[0mcoordX\u001b[0m \u001b[1;33m=\u001b[0m \u001b[0mproperty\u001b[0m\u001b[1;33m(\u001b[0m\u001b[0m__getCoordX\u001b[0m\u001b[1;33m,\u001b[0m \u001b[0m__setCoordX\u001b[0m\u001b[1;33m)\u001b[0m\u001b[1;33m\u001b[0m\u001b[1;33m\u001b[0m\u001b[0m\n",
      "\u001b[1;31mValueError\u001b[0m: Неверный формат данных"
     ]
    }
   ],
   "source": [
    "pt.coordX = '10'"
   ]
  },
  {
   "cell_type": "markdown",
   "metadata": {},
   "source": [
    "Вызывается прописанная нами ошибка ValueError"
   ]
  },
  {
   "cell_type": "markdown",
   "metadata": {},
   "source": [
    "### Добавим возможность управления удалением атрибута x"
   ]
  },
  {
   "cell_type": "code",
   "execution_count": 29,
   "metadata": {},
   "outputs": [],
   "source": [
    "class Point:\n",
    "    def __init__(self, x = 0, y = 0):\n",
    "        ''' конструктор класса '''\n",
    "        self.__x = x; self.__y = y\n",
    "\n",
    "    def __checkValue(x):\n",
    "        ''' приватный метод для проверки введенных значений координат '''\n",
    "        return isinstance(x, (float, int))\n",
    "    \n",
    "    def __getCoordX(self):\n",
    "        ''' геттер - получаем значения приватных атрибутов '''\n",
    "        return self.__x\n",
    "    \n",
    "    def __setCoordX(self, x): \n",
    "        ''' сеттер - устанавливаем приватные переменные публичным методом '''\n",
    "        if Point.__checkValue(x):\n",
    "            self.__x = x\n",
    "        else:\n",
    "            raise ValueError(\"Неверный формат данных\")\n",
    "    \n",
    "    def __delCoordX(self):\n",
    "        print(\"удаление свойства\")\n",
    "        del self.__x\n",
    "    \n",
    "    coordX = property(__getCoordX, __setCoordX, __delCoordX)"
   ]
  },
  {
   "cell_type": "code",
   "execution_count": 30,
   "metadata": {},
   "outputs": [],
   "source": [
    "pt = Point(2, 3)"
   ]
  },
  {
   "cell_type": "code",
   "execution_count": 31,
   "metadata": {},
   "outputs": [],
   "source": [
    "pt.coordX = 300"
   ]
  },
  {
   "cell_type": "code",
   "execution_count": 32,
   "metadata": {},
   "outputs": [
    {
     "name": "stdout",
     "output_type": "stream",
     "text": [
      "удаление свойства\n"
     ]
    }
   ],
   "source": [
    "del pt.coordX"
   ]
  },
  {
   "cell_type": "code",
   "execution_count": 33,
   "metadata": {},
   "outputs": [
    {
     "ename": "AttributeError",
     "evalue": "'Point' object has no attribute '_Point__x'",
     "output_type": "error",
     "traceback": [
      "\u001b[1;31m---------------------------------------------------------------------------\u001b[0m",
      "\u001b[1;31mAttributeError\u001b[0m                            Traceback (most recent call last)",
      "\u001b[1;32m<ipython-input-33-580fd18acce9>\u001b[0m in \u001b[0;36m<module>\u001b[1;34m\u001b[0m\n\u001b[1;32m----> 1\u001b[1;33m \u001b[0mpt\u001b[0m\u001b[1;33m.\u001b[0m\u001b[0mcoordX\u001b[0m\u001b[1;33m\u001b[0m\u001b[1;33m\u001b[0m\u001b[0m\n\u001b[0m",
      "\u001b[1;32m<ipython-input-29-dede7476dcb3>\u001b[0m in \u001b[0;36m__getCoordX\u001b[1;34m(self)\u001b[0m\n\u001b[0;32m     10\u001b[0m     \u001b[1;32mdef\u001b[0m \u001b[0m__getCoordX\u001b[0m\u001b[1;33m(\u001b[0m\u001b[0mself\u001b[0m\u001b[1;33m)\u001b[0m\u001b[1;33m:\u001b[0m\u001b[1;33m\u001b[0m\u001b[1;33m\u001b[0m\u001b[0m\n\u001b[0;32m     11\u001b[0m         \u001b[1;34m''' геттер - получаем значения приватных атрибутов '''\u001b[0m\u001b[1;33m\u001b[0m\u001b[1;33m\u001b[0m\u001b[0m\n\u001b[1;32m---> 12\u001b[1;33m         \u001b[1;32mreturn\u001b[0m \u001b[0mself\u001b[0m\u001b[1;33m.\u001b[0m\u001b[0m__x\u001b[0m\u001b[1;33m\u001b[0m\u001b[1;33m\u001b[0m\u001b[0m\n\u001b[0m\u001b[0;32m     13\u001b[0m \u001b[1;33m\u001b[0m\u001b[0m\n\u001b[0;32m     14\u001b[0m     \u001b[1;32mdef\u001b[0m \u001b[0m__setCoordX\u001b[0m\u001b[1;33m(\u001b[0m\u001b[0mself\u001b[0m\u001b[1;33m,\u001b[0m \u001b[0mx\u001b[0m\u001b[1;33m)\u001b[0m\u001b[1;33m:\u001b[0m\u001b[1;33m\u001b[0m\u001b[1;33m\u001b[0m\u001b[0m\n",
      "\u001b[1;31mAttributeError\u001b[0m: 'Point' object has no attribute '_Point__x'"
     ]
    }
   ],
   "source": [
    "pt.coordX"
   ]
  },
  {
   "cell_type": "markdown",
   "metadata": {},
   "source": [
    "При вызове команды del pt.coordX удалился атрибут __x, который присваивается coordX. Сам объект coordX при этом продолжает существовать"
   ]
  },
  {
   "cell_type": "markdown",
   "metadata": {},
   "source": [
    "#### Таким образом, создавая свойство coordX = property(__getCoordX, __setCoordX, __delCoordX) мы можем записывать и считывать данные, что удобно"
   ]
  },
  {
   "cell_type": "markdown",
   "metadata": {},
   "source": [
    "### Вариант создания свойства property, используя декораторы"
   ]
  },
  {
   "cell_type": "markdown",
   "metadata": {},
   "source": [
    "Декораторы начинаются со знака @"
   ]
  },
  {
   "cell_type": "code",
   "execution_count": 1,
   "metadata": {},
   "outputs": [],
   "source": [
    "class Point:\n",
    "    def __init__(self, x = 0, y = 0):\n",
    "        ''' конструктор класса '''\n",
    "        self.__x = x; self.__y = y\n",
    "\n",
    "    def __checkValue(x):\n",
    "        ''' приватный метод для проверки введенных значений координат '''\n",
    "        return isinstance(x, (float, int))\n",
    "    \n",
    "    @property\n",
    "    def coordX(self):\n",
    "        ''' геттер - получаем значения приватных атрибутов '''\n",
    "        return self.__x\n",
    "    \n",
    "    @coordX.setter\n",
    "    def coordX(self, x): \n",
    "        ''' сеттер - устанавливаем приватные переменные публичным методом '''\n",
    "        if Point.__checkValue(x):\n",
    "            self.__x = x\n",
    "        else:\n",
    "            raise ValueError(\"Неверный формат данных\")\n",
    "    \n",
    "    @coordX.deleter\n",
    "    def coordX(self):\n",
    "        print(\"удаление свойства\")\n",
    "        del self.__x"
   ]
  },
  {
   "cell_type": "code",
   "execution_count": 2,
   "metadata": {},
   "outputs": [],
   "source": [
    "pt = Point(2, 3)"
   ]
  },
  {
   "cell_type": "code",
   "execution_count": 5,
   "metadata": {},
   "outputs": [],
   "source": [
    "pt.coordX = 300"
   ]
  },
  {
   "cell_type": "code",
   "execution_count": 6,
   "metadata": {},
   "outputs": [
    {
     "name": "stdout",
     "output_type": "stream",
     "text": [
      "удаление свойства\n"
     ]
    }
   ],
   "source": [
    "del pt.coordX"
   ]
  },
  {
   "cell_type": "code",
   "execution_count": 7,
   "metadata": {},
   "outputs": [],
   "source": [
    "pt.coordX = 23"
   ]
  },
  {
   "cell_type": "code",
   "execution_count": 8,
   "metadata": {},
   "outputs": [
    {
     "data": {
      "text/plain": [
       "23"
      ]
     },
     "execution_count": 8,
     "metadata": {},
     "output_type": "execute_result"
    }
   ],
   "source": [
    "pt.coordX"
   ]
  },
  {
   "cell_type": "markdown",
   "metadata": {},
   "source": [
    "#### Названия методов геттера, сеттера и делитера должны называться как и сама переменная - setCoordX"
   ]
  },
  {
   "cell_type": "markdown",
   "metadata": {},
   "source": [
    "Однако, если мы захотим сделать такую же реализацию для второй переменной - y, тогда придётся дублировать код, написанный для x. Это противоречит фундаментальному правилу Python - Don't Repeat Yourself (DRY)!"
   ]
  },
  {
   "cell_type": "markdown",
   "metadata": {},
   "source": [
    "Поэтому здесь применяются дескрипторы"
   ]
  },
  {
   "cell_type": "markdown",
   "metadata": {},
   "source": [
    "# Дескрипторы"
   ]
  },
  {
   "cell_type": "code",
   "execution_count": 61,
   "metadata": {},
   "outputs": [],
   "source": [
    "class CoordValue:\n",
    "    def __get__(self, instance, owner):\n",
    "        return self.__value\n",
    "    \n",
    "    def __set__(self, instance, value):\n",
    "        self.__value = value\n",
    "    \n",
    "    def __delete__(self, obj):\n",
    "        del self.__value\n",
    "\n",
    "\n",
    "class Point:\n",
    "    coordX = CoordValue() #обычно так не делается, это преднамеренная ошибка для лучшего понимания\n",
    "    coordY = CoordValue()\n",
    "    def __init__(self, x = 0, y = 0):\n",
    "        self.coordX = x\n",
    "        self.coordY = y"
   ]
  },
  {
   "cell_type": "markdown",
   "metadata": {},
   "source": [
    "Дескриптор - это класс, в котором определены следующие специальные методы: __get__, __set__, __del__. Запись def __get__(self, instance, owner) является типовой и определяется документацией (так же как и def __set__(self, instance, value) и пр.). Здесь instance - ссылка на экземпляр класса, где применяется дескриптор. __value - значение переменной, значения которой устанавливаются и возвращаются в экземплярах класса Point. В этой переменной хранится значение соответствующей координаты."
   ]
  },
  {
   "cell_type": "markdown",
   "metadata": {},
   "source": [
    "Атрибуты coordX и coordY являются дескрипторами. У класса CoordValue название может быть любым."
   ]
  },
  {
   "cell_type": "markdown",
   "metadata": {},
   "source": [
    "Далее мы можем использовать эти дескрипторы как обычные переменые. Работа программы ничем не отличается от кода, приведенного выше (с property или с декораторами)"
   ]
  },
  {
   "cell_type": "code",
   "execution_count": 62,
   "metadata": {},
   "outputs": [],
   "source": [
    "pt = Point(1, 2)"
   ]
  },
  {
   "cell_type": "code",
   "execution_count": 63,
   "metadata": {},
   "outputs": [],
   "source": [
    "pt.coordX = 5"
   ]
  },
  {
   "cell_type": "code",
   "execution_count": 64,
   "metadata": {},
   "outputs": [
    {
     "data": {
      "text/plain": [
       "(5, 2)"
      ]
     },
     "execution_count": 64,
     "metadata": {},
     "output_type": "execute_result"
    }
   ],
   "source": [
    "pt.coordX, pt.coordY"
   ]
  },
  {
   "cell_type": "raw",
   "metadata": {},
   "source": [
    "Когда мы вызываем дескриптор (напр. pt.coordX), мы его берем непосредственно из класса Point. Новое свойство при этом в экземпляре не создается, т.к. операция присваивания self.coordX = x перегружена! При отработке кода self.coordX = x вызывается метод __set__ из класса CoordValue, который мы перегружаем. Локальные свойства в экземпляре pt не создаются. def __set__(self, instance, value) здесь параметр self ссылается на объект coordX или coordY, в зависимости, что выбрали"
   ]
  },
  {
   "cell_type": "markdown",
   "metadata": {},
   "source": [
    "Однако данный код не годится, если количество экземпляров класса больше, чем 1"
   ]
  },
  {
   "cell_type": "markdown",
   "metadata": {},
   "source": [
    "При вызове дескрипторов coordX coordY значения переменных x и y будут передаваться всем экземплярам класса:"
   ]
  },
  {
   "cell_type": "code",
   "execution_count": 68,
   "metadata": {},
   "outputs": [],
   "source": [
    "pt1 = Point(10, 20)"
   ]
  },
  {
   "cell_type": "code",
   "execution_count": 69,
   "metadata": {},
   "outputs": [
    {
     "data": {
      "text/plain": [
       "(10, 20, 10, 20)"
      ]
     },
     "execution_count": 69,
     "metadata": {},
     "output_type": "execute_result"
    }
   ],
   "source": [
    "pt.coordX, pt.coordY, pt1.coordX, pt1.coordY"
   ]
  },
  {
   "cell_type": "markdown",
   "metadata": {},
   "source": [
    "Это происходит потому, что и pt и pt1 ссылаются на один и тот же объект __value"
   ]
  },
  {
   "cell_type": "markdown",
   "metadata": {},
   "source": [
    "#### Поэтому с дескрипторами лучше использовать следующий код:"
   ]
  },
  {
   "cell_type": "code",
   "execution_count": 72,
   "metadata": {},
   "outputs": [],
   "source": [
    "class CoordValue:\n",
    "    def __init__(self, name):\n",
    "        self.__name = name\n",
    "    \n",
    "    def __get__(self, instance, owner):\n",
    "        return instance.__dict__[self.__name]\n",
    "    \n",
    "    def __set__(self, instance, value):\n",
    "        instance.__dict__[self.__name] = value\n",
    "\n",
    "\n",
    "class Point:\n",
    "    coordX = CoordValue(\"coordX\")\n",
    "    coordY = CoordValue(\"coordY\")\n",
    "    def __init__(self, x = 0, y = 0):\n",
    "        self.coordX = x\n",
    "        self.coordY = y"
   ]
  },
  {
   "cell_type": "raw",
   "metadata": {},
   "source": [
    "instance.__dict__[self.__name] = value ссылается непосредственно на экземпляр класса (переменная instance). Нужное нам свойство берется из коллекции __dict__. Чтобы сохранить имя свойства, прописываем также конструктор __init__, где в частной переменной __name будет сохраняться имя свойства. Метод delete пока убираем. В классе Point соответственно в переменные дескриптора CoordValue() добавляем в кавычках имена переменных, которые будут записываться и вызываться. Они будут храниться в экземплярах дескриптора в переменных self.__name"
   ]
  },
  {
   "cell_type": "code",
   "execution_count": 73,
   "metadata": {},
   "outputs": [],
   "source": [
    "pt = Point(3, 4)\n",
    "ptt = Point(33, 44)"
   ]
  },
  {
   "cell_type": "code",
   "execution_count": 74,
   "metadata": {},
   "outputs": [
    {
     "data": {
      "text/plain": [
       "(3, 4, 33, 44)"
      ]
     },
     "execution_count": 74,
     "metadata": {},
     "output_type": "execute_result"
    }
   ],
   "source": [
    "pt.coordX, pt.coordY, ptt.coordX, ptt.coordY"
   ]
  },
  {
   "cell_type": "raw",
   "metadata": {},
   "source": [
    "Теперь переменные x и y разные у разных экземпляров. Это вследствие того, что благодаря записи instance.__dict__[self.__name] = value в экземплярах создаются свои локальные переменные coordX и coordY с нужным значением value"
   ]
  },
  {
   "cell_type": "raw",
   "metadata": {},
   "source": [
    "Начиная с версии Python 3.6 и выше, у дескрипторов появился еще один полезный метод - __set_name__(self, owner, name). Этот метод вызывается автоматически при создании дескриптора и хранит в параметре name имя экземпляра класса."
   ]
  },
  {
   "cell_type": "raw",
   "metadata": {},
   "source": [
    "С методом __set_name__ код выглядит следующим образом:"
   ]
  },
  {
   "cell_type": "code",
   "execution_count": 9,
   "metadata": {},
   "outputs": [
    {
     "name": "stdout",
     "output_type": "stream",
     "text": [
      "coordX\n",
      "coordY\n"
     ]
    }
   ],
   "source": [
    "class CoordValue:\n",
    "    def __set_name__(self, owner, name):\n",
    "        print(name)\n",
    "        self.__name = name\n",
    "    \n",
    "    def __get__(self, instance, owner):\n",
    "        return instance.__dict__[self.__name]\n",
    "    \n",
    "    def __set__(self, instance, value):\n",
    "        instance.__dict__[self.__name] = value\n",
    "\n",
    "\n",
    "class Point:\n",
    "    coordX = CoordValue()\n",
    "    coordY = CoordValue()\n",
    "    def __init__(self, x = 0, y = 0):\n",
    "        self.coordX = x\n",
    "        self.coordY = y"
   ]
  },
  {
   "cell_type": "raw",
   "metadata": {},
   "source": [
    "Как мы видим, метод __set_name__ вызвался при создании экземпляров дескриптора coordX, coordY в классе Point. Имена соответствующих дескрипторов записались в переменную name дескриптора. CoordValue() соответственно пишется без аргумента, где текстом задаем имена дескрипторов"
   ]
  },
  {
   "cell_type": "code",
   "execution_count": 10,
   "metadata": {},
   "outputs": [],
   "source": [
    "pt = Point(12, 3)\n",
    "ptt = Point(90, 500)"
   ]
  },
  {
   "cell_type": "code",
   "execution_count": 11,
   "metadata": {},
   "outputs": [
    {
     "data": {
      "text/plain": [
       "(12, 3, 90, 500)"
      ]
     },
     "execution_count": 11,
     "metadata": {},
     "output_type": "execute_result"
    }
   ],
   "source": [
    "pt.coordX, pt.coordY, ptt.coordX, ptt.coordY"
   ]
  },
  {
   "cell_type": "markdown",
   "metadata": {},
   "source": [
    "Всё работает!"
   ]
  },
  {
   "cell_type": "markdown",
   "metadata": {},
   "source": [
    "Обрати внимание, что в экземплярах класса Point pt, ptt есть локальные атрибуты coordX и coordY, и в классе Point доступ к дескрипторам осуществляется по тем же именам. Как Python понимает, что нужно обращаться к дескрипторам, а не к локальным свойствам объекта pt или ptt??"
   ]
  },
  {
   "cell_type": "markdown",
   "metadata": {},
   "source": [
    "Ответ: Если в классе в базовом классе есть вызов дескриптора с тем же именем, что и локальное свойство, то приоритет даётся вызову дескриптора. Т.е. строка pt.coordX вызывает дескриптор с именем coordX"
   ]
  },
  {
   "cell_type": "code",
   "execution_count": 13,
   "metadata": {},
   "outputs": [
    {
     "data": {
      "text/plain": [
       "{'coordX': 12, 'coordY': 3}"
      ]
     },
     "execution_count": 13,
     "metadata": {},
     "output_type": "execute_result"
    }
   ],
   "source": [
    "pt.__dict__"
   ]
  },
  {
   "cell_type": "raw",
   "metadata": {},
   "source": [
    "Также в Python есть 2 типа дескрипторов: дескрипторы данных (data-descriptor) и дескрипторы не данных (non data descriptor). В дескрипторах не данных есть только метод __get__, остальные методы отсутствуют. Такие дескрипторы применяются только на приём данных. Никакие значения в них не запишешь."
   ]
  },
  {
   "cell_type": "markdown",
   "metadata": {},
   "source": [
    "Дескрипторы позволяют реализовать красивый код, но их восприятие может быть затруднено. Поэтому применять их нужно с осторожностью, соблюдая баланс между простотой реализации и учётом возможного масштабирования проекта"
   ]
  },
  {
   "cell_type": "code",
   "execution_count": null,
   "metadata": {},
   "outputs": [],
   "source": []
  },
  {
   "cell_type": "markdown",
   "metadata": {},
   "source": [
    "#### Самостоятельная работа"
   ]
  },
  {
   "cell_type": "code",
   "execution_count": 86,
   "metadata": {},
   "outputs": [],
   "source": [
    "class CoordsValue:\n",
    "    '''дескриптор для записи и считывания координат прямоугольника'''\n",
    "    def __set_name__(self, owner, name):\n",
    "        self.__name = name\n",
    "    \n",
    "    def __get__(self, instance, owner):\n",
    "        return instance.__dict__[self.__name]\n",
    "    \n",
    "    def __set__(self, instance, value):\n",
    "        if CoordsValue.__check_points(value):\n",
    "            instance.__dict__[self.__name] = value\n",
    "        else:\n",
    "            raise ValueError(\"Points must be tuples or lists of 2 integers\")\n",
    "\n",
    "    def __check_points(pt):\n",
    "        ''' Проверка на правильность введенных данных. Должна быть в дескрипторе, т.к. осуществляется\n",
    "        в нём в методе __set__'''\n",
    "        condition1 = isinstance(pt, (tuple, list))\n",
    "        condition2 = (len(pt) == 2)\n",
    "        condition3 = type(pt[0]) == int and type(pt[1]) == int\n",
    "        if condition1:\n",
    "            return condition2 and condition3\n",
    "        return False           \n",
    "\n",
    "class Rectangle:\n",
    "    top_left = CoordsValue()\n",
    "    bottom_right = CoordsValue()\n",
    "    \n",
    "    def __init__(self, pt1 = (0, 0), pt2 = (0, 0)):\n",
    "            self.top_left, self.bottom_right = pt1, pt2"
   ]
  },
  {
   "cell_type": "code",
   "execution_count": 87,
   "metadata": {},
   "outputs": [],
   "source": [
    "rect1 = Rectangle((0, 0), (2, 3))\n",
    "rect2 = Rectangle((1, 1), (4, 2))"
   ]
  },
  {
   "cell_type": "code",
   "execution_count": 88,
   "metadata": {},
   "outputs": [
    {
     "data": {
      "text/plain": [
       "((0, 0), (2, 3), (1, 1), (4, 2))"
      ]
     },
     "execution_count": 88,
     "metadata": {},
     "output_type": "execute_result"
    }
   ],
   "source": [
    "rect1.top_left, rect1.bottom_right, rect2.top_left, rect2.bottom_right"
   ]
  },
  {
   "cell_type": "code",
   "execution_count": 89,
   "metadata": {},
   "outputs": [
    {
     "ename": "ValueError",
     "evalue": "Points must be tuples or lists of 2 integers",
     "output_type": "error",
     "traceback": [
      "\u001b[1;31m---------------------------------------------------------------------------\u001b[0m",
      "\u001b[1;31mValueError\u001b[0m                                Traceback (most recent call last)",
      "\u001b[1;32m<ipython-input-89-472dd8886da8>\u001b[0m in \u001b[0;36m<module>\u001b[1;34m\u001b[0m\n\u001b[1;32m----> 1\u001b[1;33m \u001b[0mrect1\u001b[0m\u001b[1;33m.\u001b[0m\u001b[0mtop_left\u001b[0m \u001b[1;33m=\u001b[0m \u001b[1;33m(\u001b[0m\u001b[1;36m2\u001b[0m\u001b[1;33m,\u001b[0m \u001b[1;36m2\u001b[0m\u001b[1;33m,\u001b[0m \u001b[1;36m3\u001b[0m\u001b[1;33m)\u001b[0m\u001b[1;33m\u001b[0m\u001b[1;33m\u001b[0m\u001b[0m\n\u001b[0m",
      "\u001b[1;32m<ipython-input-86-cfb727d96cbc>\u001b[0m in \u001b[0;36m__set__\u001b[1;34m(self, instance, value)\u001b[0m\n\u001b[0;32m     11\u001b[0m             \u001b[0minstance\u001b[0m\u001b[1;33m.\u001b[0m\u001b[0m__dict__\u001b[0m\u001b[1;33m[\u001b[0m\u001b[0mself\u001b[0m\u001b[1;33m.\u001b[0m\u001b[0m__name\u001b[0m\u001b[1;33m]\u001b[0m \u001b[1;33m=\u001b[0m \u001b[0mvalue\u001b[0m\u001b[1;33m\u001b[0m\u001b[1;33m\u001b[0m\u001b[0m\n\u001b[0;32m     12\u001b[0m         \u001b[1;32melse\u001b[0m\u001b[1;33m:\u001b[0m\u001b[1;33m\u001b[0m\u001b[1;33m\u001b[0m\u001b[0m\n\u001b[1;32m---> 13\u001b[1;33m             \u001b[1;32mraise\u001b[0m \u001b[0mValueError\u001b[0m\u001b[1;33m(\u001b[0m\u001b[1;34m\"Points must be tuples or lists of 2 integers\"\u001b[0m\u001b[1;33m)\u001b[0m\u001b[1;33m\u001b[0m\u001b[1;33m\u001b[0m\u001b[0m\n\u001b[0m\u001b[0;32m     14\u001b[0m \u001b[1;33m\u001b[0m\u001b[0m\n\u001b[0;32m     15\u001b[0m     \u001b[1;32mdef\u001b[0m \u001b[0m__check_points\u001b[0m\u001b[1;33m(\u001b[0m\u001b[0mpt\u001b[0m\u001b[1;33m)\u001b[0m\u001b[1;33m:\u001b[0m\u001b[1;33m\u001b[0m\u001b[1;33m\u001b[0m\u001b[0m\n",
      "\u001b[1;31mValueError\u001b[0m: Points must be tuples or lists of 2 integers"
     ]
    }
   ],
   "source": [
    "rect1.top_left = (2, 2, 3)"
   ]
  },
  {
   "cell_type": "code",
   "execution_count": 85,
   "metadata": {},
   "outputs": [
    {
     "data": {
      "text/plain": [
       "((0, 0), (2, 3), (1, 1), (4, 2))"
      ]
     },
     "execution_count": 85,
     "metadata": {},
     "output_type": "execute_result"
    }
   ],
   "source": [
    "rect1.top_left, rect1.bottom_right, rect2.top_left, rect2.bottom_right"
   ]
  },
  {
   "cell_type": "code",
   "execution_count": 90,
   "metadata": {},
   "outputs": [
    {
     "ename": "ValueError",
     "evalue": "Points must be tuples or lists of 2 integers",
     "output_type": "error",
     "traceback": [
      "\u001b[1;31m---------------------------------------------------------------------------\u001b[0m",
      "\u001b[1;31mValueError\u001b[0m                                Traceback (most recent call last)",
      "\u001b[1;32m<ipython-input-90-f9abdecd2881>\u001b[0m in \u001b[0;36m<module>\u001b[1;34m\u001b[0m\n\u001b[1;32m----> 1\u001b[1;33m \u001b[0mrect1\u001b[0m\u001b[1;33m.\u001b[0m\u001b[0mtop_left\u001b[0m \u001b[1;33m=\u001b[0m \u001b[1;33m(\u001b[0m\u001b[1;36m2\u001b[0m\u001b[1;33m,\u001b[0m \u001b[1;33m[\u001b[0m\u001b[1;36m4\u001b[0m\u001b[1;33m]\u001b[0m\u001b[1;33m)\u001b[0m\u001b[1;33m\u001b[0m\u001b[1;33m\u001b[0m\u001b[0m\n\u001b[0m",
      "\u001b[1;32m<ipython-input-86-cfb727d96cbc>\u001b[0m in \u001b[0;36m__set__\u001b[1;34m(self, instance, value)\u001b[0m\n\u001b[0;32m     11\u001b[0m             \u001b[0minstance\u001b[0m\u001b[1;33m.\u001b[0m\u001b[0m__dict__\u001b[0m\u001b[1;33m[\u001b[0m\u001b[0mself\u001b[0m\u001b[1;33m.\u001b[0m\u001b[0m__name\u001b[0m\u001b[1;33m]\u001b[0m \u001b[1;33m=\u001b[0m \u001b[0mvalue\u001b[0m\u001b[1;33m\u001b[0m\u001b[1;33m\u001b[0m\u001b[0m\n\u001b[0;32m     12\u001b[0m         \u001b[1;32melse\u001b[0m\u001b[1;33m:\u001b[0m\u001b[1;33m\u001b[0m\u001b[1;33m\u001b[0m\u001b[0m\n\u001b[1;32m---> 13\u001b[1;33m             \u001b[1;32mraise\u001b[0m \u001b[0mValueError\u001b[0m\u001b[1;33m(\u001b[0m\u001b[1;34m\"Points must be tuples or lists of 2 integers\"\u001b[0m\u001b[1;33m)\u001b[0m\u001b[1;33m\u001b[0m\u001b[1;33m\u001b[0m\u001b[0m\n\u001b[0m\u001b[0;32m     14\u001b[0m \u001b[1;33m\u001b[0m\u001b[0m\n\u001b[0;32m     15\u001b[0m     \u001b[1;32mdef\u001b[0m \u001b[0m__check_points\u001b[0m\u001b[1;33m(\u001b[0m\u001b[0mpt\u001b[0m\u001b[1;33m)\u001b[0m\u001b[1;33m:\u001b[0m\u001b[1;33m\u001b[0m\u001b[1;33m\u001b[0m\u001b[0m\n",
      "\u001b[1;31mValueError\u001b[0m: Points must be tuples or lists of 2 integers"
     ]
    }
   ],
   "source": [
    "rect1.top_left = (2, [4])"
   ]
  },
  {
   "cell_type": "code",
   "execution_count": 91,
   "metadata": {},
   "outputs": [
    {
     "ename": "ValueError",
     "evalue": "Points must be tuples or lists of 2 integers",
     "output_type": "error",
     "traceback": [
      "\u001b[1;31m---------------------------------------------------------------------------\u001b[0m",
      "\u001b[1;31mValueError\u001b[0m                                Traceback (most recent call last)",
      "\u001b[1;32m<ipython-input-91-311be8c74c1a>\u001b[0m in \u001b[0;36m<module>\u001b[1;34m\u001b[0m\n\u001b[1;32m----> 1\u001b[1;33m \u001b[0mrect2\u001b[0m\u001b[1;33m.\u001b[0m\u001b[0mbottom_right\u001b[0m \u001b[1;33m=\u001b[0m \u001b[1;34m'def'\u001b[0m\u001b[1;33m\u001b[0m\u001b[1;33m\u001b[0m\u001b[0m\n\u001b[0m",
      "\u001b[1;32m<ipython-input-86-cfb727d96cbc>\u001b[0m in \u001b[0;36m__set__\u001b[1;34m(self, instance, value)\u001b[0m\n\u001b[0;32m     11\u001b[0m             \u001b[0minstance\u001b[0m\u001b[1;33m.\u001b[0m\u001b[0m__dict__\u001b[0m\u001b[1;33m[\u001b[0m\u001b[0mself\u001b[0m\u001b[1;33m.\u001b[0m\u001b[0m__name\u001b[0m\u001b[1;33m]\u001b[0m \u001b[1;33m=\u001b[0m \u001b[0mvalue\u001b[0m\u001b[1;33m\u001b[0m\u001b[1;33m\u001b[0m\u001b[0m\n\u001b[0;32m     12\u001b[0m         \u001b[1;32melse\u001b[0m\u001b[1;33m:\u001b[0m\u001b[1;33m\u001b[0m\u001b[1;33m\u001b[0m\u001b[0m\n\u001b[1;32m---> 13\u001b[1;33m             \u001b[1;32mraise\u001b[0m \u001b[0mValueError\u001b[0m\u001b[1;33m(\u001b[0m\u001b[1;34m\"Points must be tuples or lists of 2 integers\"\u001b[0m\u001b[1;33m)\u001b[0m\u001b[1;33m\u001b[0m\u001b[1;33m\u001b[0m\u001b[0m\n\u001b[0m\u001b[0;32m     14\u001b[0m \u001b[1;33m\u001b[0m\u001b[0m\n\u001b[0;32m     15\u001b[0m     \u001b[1;32mdef\u001b[0m \u001b[0m__check_points\u001b[0m\u001b[1;33m(\u001b[0m\u001b[0mpt\u001b[0m\u001b[1;33m)\u001b[0m\u001b[1;33m:\u001b[0m\u001b[1;33m\u001b[0m\u001b[1;33m\u001b[0m\u001b[0m\n",
      "\u001b[1;31mValueError\u001b[0m: Points must be tuples or lists of 2 integers"
     ]
    }
   ],
   "source": [
    "rect2.bottom_right = 'def'"
   ]
  },
  {
   "cell_type": "code",
   "execution_count": 92,
   "metadata": {},
   "outputs": [],
   "source": [
    "rect2.bottom_right = [8, 7]"
   ]
  },
  {
   "cell_type": "code",
   "execution_count": 93,
   "metadata": {},
   "outputs": [
    {
     "data": {
      "text/plain": [
       "((0, 0), (2, 3), (1, 1), [8, 7])"
      ]
     },
     "execution_count": 93,
     "metadata": {},
     "output_type": "execute_result"
    }
   ],
   "source": [
    "rect1.top_left, rect1.bottom_right, rect2.top_left, rect2.bottom_right"
   ]
  },
  {
   "cell_type": "code",
   "execution_count": null,
   "metadata": {},
   "outputs": [],
   "source": []
  }
 ],
 "metadata": {
  "kernelspec": {
   "display_name": "Python 3",
   "language": "python",
   "name": "python3"
  },
  "language_info": {
   "codemirror_mode": {
    "name": "ipython",
    "version": 3
   },
   "file_extension": ".py",
   "mimetype": "text/x-python",
   "name": "python",
   "nbconvert_exporter": "python",
   "pygments_lexer": "ipython3",
   "version": "3.8.2"
  }
 },
 "nbformat": 4,
 "nbformat_minor": 4
}
